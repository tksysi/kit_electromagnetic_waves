{
 "cells": [
  {
   "cell_type": "markdown",
   "metadata": {},
   "source": [
    "# 稲垣直樹，「電気・電子学生のための電磁波工学」\n",
    "\n",
    "## 式(2.57), (2.58)から式(2.59)を導出する．"
   ]
  },
  {
   "cell_type": "code",
   "execution_count": 1,
   "metadata": {},
   "outputs": [],
   "source": [
    "from sympy import *"
   ]
  },
  {
   "cell_type": "markdown",
   "metadata": {},
   "source": [
    "変数に対するシンボルを準備する．ただし$x$, $y$は以下の通りの意味で用いる．\n",
    "\n",
    "$x = \\cos(\\omega * t - k * x)$\n",
    "\n",
    "$y = \\sin(\\omega * t - k * x)$"
   ]
  },
  {
   "cell_type": "code",
   "execution_count": 2,
   "metadata": {},
   "outputs": [],
   "source": [
    "Ey, Ez = symbols('E_y E_z')\n",
    "a, b = symbols('a b')\n",
    "α, β = symbols('α β')\n",
    "x, y = symbols('x y')"
   ]
  },
  {
   "cell_type": "markdown",
   "metadata": {},
   "source": [
    "式(2.57), (2.58)を連立させて$x$, $y$について解く"
   ]
  },
  {
   "cell_type": "code",
   "execution_count": 3,
   "metadata": {},
   "outputs": [],
   "source": [
    "eq1 = Eq(Ey, a*x*cos(α) - a*y*sin(α)) #(2.57)\n",
    "eq2 = Eq(Ez, b*x*cos(β) - b*y*sin(β)) #(2.58)\n",
    "sol12 = solve([eq1, eq2], [x, y])"
   ]
  },
  {
   "cell_type": "code",
   "execution_count": 4,
   "metadata": {},
   "outputs": [
    {
     "data": {
      "text/latex": [
       "$\\displaystyle \\frac{- E_{y} b \\sin{\\left(β \\right)} + E_{z} a \\sin{\\left(α \\right)}}{a b \\sin{\\left(α - β \\right)}}$"
      ],
      "text/plain": [
       "(-E_y*b*sin(β) + E_z*a*sin(α))/(a*b*sin(α - β))"
      ]
     },
     "metadata": {},
     "output_type": "display_data"
    },
    {
     "data": {
      "text/latex": [
       "$\\displaystyle \\frac{- E_{y} b \\cos{\\left(β \\right)} + E_{z} a \\cos{\\left(α \\right)}}{a b \\sin{\\left(α - β \\right)}}$"
      ],
      "text/plain": [
       "(-E_y*b*cos(β) + E_z*a*cos(α))/(a*b*sin(α - β))"
      ]
     },
     "metadata": {},
     "output_type": "display_data"
    }
   ],
   "source": [
    "display(sol12[x], sol12[y])"
   ]
  },
  {
   "cell_type": "markdown",
   "metadata": {},
   "source": [
    "$\\cos(\\omega t-kx)^2 + \\sin(\\omega t-kx)^2 = 1$より$x^2 + y^2 = 1$を利用する．"
   ]
  },
  {
   "cell_type": "code",
   "execution_count": 5,
   "metadata": {},
   "outputs": [
    {
     "data": {
      "text/latex": [
       "$\\displaystyle \\frac{\\left(- E_{y} b \\sin{\\left(β \\right)} + E_{z} a \\sin{\\left(α \\right)}\\right)^{2}}{a^{2} b^{2} \\sin^{2}{\\left(α - β \\right)}} + \\frac{\\left(- E_{y} b \\cos{\\left(β \\right)} + E_{z} a \\cos{\\left(α \\right)}\\right)^{2}}{a^{2} b^{2} \\sin^{2}{\\left(α - β \\right)}} = 1$"
      ],
      "text/plain": [
       "Eq((-E_y*b*sin(β) + E_z*a*sin(α))**2/(a**2*b**2*sin(α - β)**2) + (-E_y*b*cos(β) + E_z*a*cos(α))**2/(a**2*b**2*sin(α - β)**2), 1)"
      ]
     },
     "metadata": {},
     "output_type": "display_data"
    }
   ],
   "source": [
    "eq3 = Eq(sol12[x]**2 + sol12[y]**2, 1)\n",
    "display(eq3)"
   ]
  },
  {
   "cell_type": "markdown",
   "metadata": {},
   "source": [
    "$A=a^2b^2\\sin^2(\\alpha - \\beta)$とする（一時的な変数であり，式(2.55)の$A$とは異なる）．"
   ]
  },
  {
   "cell_type": "code",
   "execution_count": 6,
   "metadata": {},
   "outputs": [],
   "source": [
    "A = symbols('A')\n",
    "A = a**2 * b**2 * sin(α-β)**2"
   ]
  },
  {
   "cell_type": "markdown",
   "metadata": {},
   "source": [
    "eq3の左辺の各項に$A$を掛けるとどのようになるか確認してみる"
   ]
  },
  {
   "cell_type": "code",
   "execution_count": 7,
   "metadata": {},
   "outputs": [
    {
     "data": {
      "text/latex": [
       "$\\displaystyle \\left(- E_{y} b \\sin{\\left(β \\right)} + E_{z} a \\sin{\\left(α \\right)}\\right)^{2}$"
      ],
      "text/plain": [
       "(-E_y*b*sin(β) + E_z*a*sin(α))**2"
      ]
     },
     "metadata": {},
     "output_type": "display_data"
    },
    {
     "data": {
      "text/latex": [
       "$\\displaystyle \\left(- E_{y} b \\cos{\\left(β \\right)} + E_{z} a \\cos{\\left(α \\right)}\\right)^{2}$"
      ],
      "text/plain": [
       "(-E_y*b*cos(β) + E_z*a*cos(α))**2"
      ]
     },
     "metadata": {},
     "output_type": "display_data"
    }
   ],
   "source": [
    "display(sol12[x]**2 * A, sol12[y]**2 * A)"
   ]
  },
  {
   "cell_type": "code",
   "execution_count": 8,
   "metadata": {},
   "outputs": [
    {
     "data": {
      "text/latex": [
       "$\\displaystyle \\left(- E_{y} b \\sin{\\left(β \\right)} + E_{z} a \\sin{\\left(α \\right)}\\right)^{2} + \\left(- E_{y} b \\cos{\\left(β \\right)} + E_{z} a \\cos{\\left(α \\right)}\\right)^{2}$"
      ],
      "text/plain": [
       "(-E_y*b*sin(β) + E_z*a*sin(α))**2 + (-E_y*b*cos(β) + E_z*a*cos(α))**2"
      ]
     },
     "metadata": {},
     "output_type": "display_data"
    }
   ],
   "source": [
    "display(sol12[x]**2 * A + sol12[y]**2 * A)"
   ]
  },
  {
   "cell_type": "markdown",
   "metadata": {},
   "source": [
    "上式を簡略化させてみる（よい感じなのでこの方向で進めて行くことにする）"
   ]
  },
  {
   "cell_type": "code",
   "execution_count": 9,
   "metadata": {},
   "outputs": [
    {
     "data": {
      "text/latex": [
       "$\\displaystyle E_{y}^{2} b^{2} - 2 E_{y} E_{z} a b \\cos{\\left(α - β \\right)} + E_{z}^{2} a^{2}$"
      ],
      "text/plain": [
       "E_y**2*b**2 - 2*E_y*E_z*a*b*cos(α - β) + E_z**2*a**2"
      ]
     },
     "metadata": {},
     "output_type": "display_data"
    }
   ],
   "source": [
    "display(simplify(sol12[x]**2 * A + sol12[y]**2 * A))"
   ]
  },
  {
   "cell_type": "markdown",
   "metadata": {},
   "source": [
    "eq3の左辺(lhs)と右辺(rhs)を表示させてみる"
   ]
  },
  {
   "cell_type": "code",
   "execution_count": 10,
   "metadata": {},
   "outputs": [
    {
     "data": {
      "text/latex": [
       "$\\displaystyle \\frac{\\left(- E_{y} b \\sin{\\left(β \\right)} + E_{z} a \\sin{\\left(α \\right)}\\right)^{2}}{a^{2} b^{2} \\sin^{2}{\\left(α - β \\right)}} + \\frac{\\left(- E_{y} b \\cos{\\left(β \\right)} + E_{z} a \\cos{\\left(α \\right)}\\right)^{2}}{a^{2} b^{2} \\sin^{2}{\\left(α - β \\right)}}$"
      ],
      "text/plain": [
       "(-E_y*b*sin(β) + E_z*a*sin(α))**2/(a**2*b**2*sin(α - β)**2) + (-E_y*b*cos(β) + E_z*a*cos(α))**2/(a**2*b**2*sin(α - β)**2)"
      ]
     },
     "metadata": {},
     "output_type": "display_data"
    },
    {
     "data": {
      "text/latex": [
       "$\\displaystyle 1$"
      ],
      "text/plain": [
       "1"
      ]
     },
     "metadata": {},
     "output_type": "display_data"
    }
   ],
   "source": [
    "display(eq3.lhs, eq3.rhs)"
   ]
  },
  {
   "cell_type": "markdown",
   "metadata": {},
   "source": [
    "eq3の左辺に$A$をかけてみる"
   ]
  },
  {
   "cell_type": "code",
   "execution_count": 11,
   "metadata": {},
   "outputs": [
    {
     "data": {
      "text/latex": [
       "$\\displaystyle a^{2} b^{2} \\left(\\frac{\\left(- E_{y} b \\sin{\\left(β \\right)} + E_{z} a \\sin{\\left(α \\right)}\\right)^{2}}{a^{2} b^{2} \\sin^{2}{\\left(α - β \\right)}} + \\frac{\\left(- E_{y} b \\cos{\\left(β \\right)} + E_{z} a \\cos{\\left(α \\right)}\\right)^{2}}{a^{2} b^{2} \\sin^{2}{\\left(α - β \\right)}}\\right) \\sin^{2}{\\left(α - β \\right)}$"
      ],
      "text/plain": [
       "a**2*b**2*((-E_y*b*sin(β) + E_z*a*sin(α))**2/(a**2*b**2*sin(α - β)**2) + (-E_y*b*cos(β) + E_z*a*cos(α))**2/(a**2*b**2*sin(α - β)**2))*sin(α - β)**2"
      ]
     },
     "metadata": {},
     "output_type": "display_data"
    }
   ],
   "source": [
    "display(eq3.lhs * A)"
   ]
  },
  {
   "cell_type": "markdown",
   "metadata": {},
   "source": [
    "simplifyによる簡略化をしたほうがよさそうなので，eq3の両辺に$A$をかけた結果を簡略化した式の両辺を表示させてみる"
   ]
  },
  {
   "cell_type": "code",
   "execution_count": 12,
   "metadata": {},
   "outputs": [
    {
     "data": {
      "text/latex": [
       "$\\displaystyle E_{y}^{2} b^{2} - 2 E_{y} E_{z} a b \\cos{\\left(α - β \\right)} + E_{z}^{2} a^{2}$"
      ],
      "text/plain": [
       "E_y**2*b**2 - 2*E_y*E_z*a*b*cos(α - β) + E_z**2*a**2"
      ]
     },
     "metadata": {},
     "output_type": "display_data"
    },
    {
     "data": {
      "text/latex": [
       "$\\displaystyle a^{2} b^{2} \\sin^{2}{\\left(α - β \\right)}$"
      ],
      "text/plain": [
       "a**2*b**2*sin(α - β)**2"
      ]
     },
     "metadata": {},
     "output_type": "display_data"
    }
   ],
   "source": [
    "display(simplify(eq3.lhs * A), eq3.rhs * A)"
   ]
  },
  {
   "cell_type": "markdown",
   "metadata": {},
   "source": [
    "上の結果を踏まえて，eq3の両辺に$A$をかけた式をeq4とする"
   ]
  },
  {
   "cell_type": "code",
   "execution_count": 13,
   "metadata": {},
   "outputs": [
    {
     "data": {
      "text/latex": [
       "$\\displaystyle E_{y}^{2} b^{2} - 2 E_{y} E_{z} a b \\cos{\\left(α - β \\right)} + E_{z}^{2} a^{2} = a^{2} b^{2} \\sin^{2}{\\left(α - β \\right)}$"
      ],
      "text/plain": [
       "Eq(E_y**2*b**2 - 2*E_y*E_z*a*b*cos(α - β) + E_z**2*a**2, a**2*b**2*sin(α - β)**2)"
      ]
     },
     "metadata": {},
     "output_type": "display_data"
    }
   ],
   "source": [
    "eq4 = Eq(simplify(eq3.lhs*A), eq3.rhs*A)\n",
    "display(eq4)"
   ]
  },
  {
   "cell_type": "markdown",
   "metadata": {},
   "source": [
    "eq4の両辺を$a^2b^2$で割る"
   ]
  },
  {
   "cell_type": "code",
   "execution_count": 14,
   "metadata": {},
   "outputs": [
    {
     "data": {
      "text/latex": [
       "$\\displaystyle \\frac{E_{y}^{2}}{a^{2}} - \\frac{2 E_{y} E_{z} \\cos{\\left(α - β \\right)}}{a b} + \\frac{E_{z}^{2}}{b^{2}} = \\sin^{2}{\\left(α - β \\right)}$"
      ],
      "text/plain": [
       "Eq(E_y**2/a**2 - 2*E_y*E_z*cos(α - β)/(a*b) + E_z**2/b**2, sin(α - β)**2)"
      ]
     },
     "metadata": {},
     "output_type": "display_data"
    }
   ],
   "source": [
    "eq5 = Eq(simplify(eq4.lhs/(a**2 * b**2)), eq4.rhs/(a**2 * b**2))\n",
    "display(eq5)"
   ]
  },
  {
   "cell_type": "markdown",
   "metadata": {},
   "source": [
    "式(2.59)と同じ式が得られた．\n",
    "$\\sin(\\alpha - \\beta) = -\\sin(\\beta - \\alpha)$なので\n",
    "$\\sin^2(\\alpha - \\beta) = \\sin^2(\\beta - \\alpha)$となり上記の結果は式(2.59)に等しい．"
   ]
  }
 ],
 "metadata": {
  "kernelspec": {
   "display_name": "Python 3",
   "language": "python",
   "name": "python3"
  },
  "language_info": {
   "codemirror_mode": {
    "name": "ipython",
    "version": 3
   },
   "file_extension": ".py",
   "mimetype": "text/x-python",
   "name": "python",
   "nbconvert_exporter": "python",
   "pygments_lexer": "ipython3",
   "version": "3.7.2"
  }
 },
 "nbformat": 4,
 "nbformat_minor": 2
}
